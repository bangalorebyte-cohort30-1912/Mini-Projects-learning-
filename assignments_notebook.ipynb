{
 "cells": [
  {
   "cell_type": "code",
   "execution_count": null,
   "metadata": {},
   "outputs": [],
   "source": [
    "ASSIGNMENT NOTEBOOK"
   ]
  },
  {
   "cell_type": "code",
   "execution_count": null,
   "metadata": {},
   "outputs": [],
   "source": [
    "1:Mailing Address "
   ]
  },
  {
   "cell_type": "code",
   "execution_count": 1,
   "metadata": {},
   "outputs": [
    {
     "name": "stdout",
     "output_type": "stream",
     "text": [
      "please enter name:tenzin\n",
      "please enter landmark:opp to axis atm\n",
      "please enter address:ejipura ram temple\n",
      "please enter pincode560047\n",
      "To \n",
      " tenzin \n",
      " opp to axis atm \n",
      " ejipura ram temple \n",
      " 560047\n"
     ]
    }
   ],
   "source": [
    "name= input(\"please enter name:\")\n",
    "landmark= input(\"please enter landmark:\")\n",
    "address= input(\"please enter address:\")\n",
    "pincode= int(input(\"please enter pincode\"))\n",
    "print(\"To\",\"\\n\",name,\"\\n\",landmark,\"\\n\",address,\"\\n\",pincode)"
   ]
  },
  {
   "cell_type": "code",
   "execution_count": null,
   "metadata": {},
   "outputs": [],
   "source": [
    "2. Printing user name"
   ]
  },
  {
   "cell_type": "code",
   "execution_count": 2,
   "metadata": {},
   "outputs": [
    {
     "name": "stdout",
     "output_type": "stream",
     "text": [
      "Please enter your name :tenzin\n",
      "Hello and welcome tenzin\n"
     ]
    }
   ],
   "source": [
    "user=input(\"Please enter your name :\")\n",
    "print(\"Hello and welcome\",user)"
   ]
  },
  {
   "cell_type": "code",
   "execution_count": null,
   "metadata": {},
   "outputs": [],
   "source": [
    "3. width and length of the room "
   ]
  },
  {
   "cell_type": "code",
   "execution_count": 3,
   "metadata": {},
   "outputs": [
    {
     "name": "stdout",
     "output_type": "stream",
     "text": [
      "Please enter the lenght in ms:10\n",
      "Please enter the width ms:10\n",
      "The area of the room is  100.0 ms\n"
     ]
    }
   ],
   "source": [
    "length=float(input(\"Please enter the lenght in ms:\"))\n",
    "width=float(input(\"Please enter the width ms:\"))\n",
    "area=length*width\n",
    "print(\"The area of the room is \",area,\"ms\")"
   ]
  },
  {
   "cell_type": "code",
   "execution_count": null,
   "metadata": {},
   "outputs": [],
   "source": [
    "4. Farmers field in acres"
   ]
  },
  {
   "cell_type": "code",
   "execution_count": 4,
   "metadata": {},
   "outputs": [
    {
     "name": "stdout",
     "output_type": "stream",
     "text": [
      "Please enter the length of the field in ft:10\n",
      "Please enter the width of the field in ft20\n",
      "The are of the field is 0.004591368227731864 acres\n"
     ]
    }
   ],
   "source": [
    "field1=float(input(\"Please enter the length of the field in ft:\"))\n",
    "field2=float(input(\"Please enter the width of the field in ft\"))\n",
    "area_field=(field1*field2)/43560\n",
    "print(\"The are of the field is\",area_field,\"acres\")"
   ]
  },
  {
   "cell_type": "code",
   "execution_count": null,
   "metadata": {},
   "outputs": [],
   "source": [
    "5. tip and tax of the meal "
   ]
  },
  {
   "cell_type": "code",
   "execution_count": 5,
   "metadata": {},
   "outputs": [
    {
     "name": "stdout",
     "output_type": "stream",
     "text": [
      "The price for the pasta is:650\n",
      "Your total bill is:  688.0 \n",
      " Pasta:  650.0 \n",
      " TAX & VAT: 2.0 \n",
      " TIP:  36.0\n"
     ]
    }
   ],
   "source": [
    "meal=float(input(\"The price for the pasta is:\"))\n",
    "tax= meal%8\n",
    "tip=meal//18\n",
    "total=meal+tax+tip\n",
    "print(\"Your total bill is: \",total,\"\\n\",\"Pasta: \",meal,\"\\n\",\"TAX & VAT:\",tax,\"\\n\",\"TIP: \",tip)"
   ]
  },
  {
   "cell_type": "code",
   "execution_count": null,
   "metadata": {},
   "outputs": [],
   "source": [
    "6. Simple Calculations "
   ]
  },
  {
   "cell_type": "code",
   "execution_count": 6,
   "metadata": {},
   "outputs": [
    {
     "name": "stdout",
     "output_type": "stream",
     "text": [
      "Please enter a number:10\n",
      "Please enter a number:20\n",
      "The sum is : 30\n",
      "The differnce is :  10\n",
      "The product of the two number is :  200\n",
      "The quotient of the numbers are:  10\n",
      "The remainder of the two numbers are :  0.5\n"
     ]
    }
   ],
   "source": [
    "a=int(input(\"Please enter a number:\"))\n",
    "b=int(input(\"Please enter a number:\"))\n",
    "total=a+b\n",
    "dif=b-a\n",
    "prod=(a*b)\n",
    "quo=(a%b)\n",
    "rem=a/b\n",
    "\n",
    "print(\"The sum is :\",total)\n",
    "print(\"The differnce is : \",dif)\n",
    "print(\"The product of the two number is : \",prod)\n",
    "print(\"The quotient of the numbers are: \",quo)\n",
    "print(\"The remainder of the two numbers are : \",rem)"
   ]
  },
  {
   "cell_type": "code",
   "execution_count": null,
   "metadata": {},
   "outputs": [],
   "source": [
    "7. Checking square or rectangle"
   ]
  },
  {
   "cell_type": "code",
   "execution_count": 7,
   "metadata": {},
   "outputs": [
    {
     "name": "stdout",
     "output_type": "stream",
     "text": [
      "please enter the length:10\n",
      "please enter the width:10\n",
      "The shape you were looking for is a square\n"
     ]
    }
   ],
   "source": [
    "length=int(input(\"please enter the length:\"))\n",
    "width=int(input(\"please enter the width:\"))\n",
    "if length==width:\n",
    "    print(\"The shape you were looking for is a square\")\n",
    "else:\n",
    "    print(\"The shape you were looking for is a rectangle \")"
   ]
  },
  {
   "cell_type": "code",
   "execution_count": null,
   "metadata": {},
   "outputs": [],
   "source": [
    "8. A shop will give discount of 10% if the cost of purchased quantity is more than 1000."
   ]
  },
  {
   "cell_type": "code",
   "execution_count": 9,
   "metadata": {},
   "outputs": [
    {
     "name": "stdout",
     "output_type": "stream",
     "text": [
      "Please enter the quantity10\n",
      "The total billed amt is 1000 Rs and the total price after discount is 900.0\n"
     ]
    }
   ],
   "source": [
    "quantity=int(input(\"Please enter the quantity\"))\n",
    "total=quantity*100\n",
    "if total>=1000 :\n",
    "    value=(total*0.1)\n",
    "    print(\"The total billed amt is\",total,\"Rs\",\"and the total price after discount is\",total-value)\n",
    "else:\n",
    "    print(\"The total billed amt is \",total,\"Rs\")"
   ]
  },
  {
   "cell_type": "code",
   "execution_count": null,
   "metadata": {},
   "outputs": [],
   "source": [
    "9.A company decided to give bonus of 5% to employee if his/her year of service is more than 5 years."
   ]
  },
  {
   "cell_type": "code",
   "execution_count": 10,
   "metadata": {},
   "outputs": [
    {
     "name": "stdout",
     "output_type": "stream",
     "text": [
      "please enter your salary:10000\n",
      "please enter your years of service :6\n",
      "As you have worked with our company for more than five years your new salary will be 10500.0\n"
     ]
    }
   ],
   "source": [
    "salary=int(input(\"please enter your salary:\"))\n",
    "yos=int(input(\"please enter your years of service :\"))\n",
    "if yos>=5:\n",
    "    bonus=(salary*0.05)\n",
    "    print(\"As you have worked with our company for more than five years your new salary will be\",bonus+salary)\n",
    "else:\n",
    "   print( \"your salary as of now is :\",salary)"
   ]
  },
  {
   "cell_type": "code",
   "execution_count": null,
   "metadata": {},
   "outputs": [],
   "source": [
    "10. Take input of age of 3 people by user and determine oldest and youngest among them."
   ]
  },
  {
   "cell_type": "code",
   "execution_count": 11,
   "metadata": {},
   "outputs": [
    {
     "name": "stdout",
     "output_type": "stream",
     "text": [
      "Please enter first age20\n",
      "Please enter second age20\n",
      "Please enter third age30\n",
      "The third user is the oldest of all \n",
      "Enter correct age\n"
     ]
    }
   ],
   "source": [
    "user_1=int(input(\"Please enter first age\"))\n",
    "user_2=int(input(\"Please enter second age\"))\n",
    "user_3=int(input(\"Please enter third age\"))\n",
    "if user_1>user_2 and user_1>user_3:\n",
    "    print(\"The first user is the oldest of all \")\n",
    "elif user_2>user_1 and user_2>user_3:\n",
    "    print(\"The second user is the oldest of all \")\n",
    "elif user_3>user_1 and user_3>user_2:\n",
    "    print(\"The third user is the oldest of all \")\n",
    "else:\n",
    "    print(\"Enter correct age\")\n",
    "if user_1<user_2 and user_1<user_3:\n",
    "    print(\"The first user is the youngest of all \")\n",
    "elif user_2<user_1 and user_2<user_3:\n",
    "    print(\"The second user is the youngest of all \")\n",
    "elif user_3<user_1 and user_3<user_2:\n",
    "    print(\"The third user is the youngest of all \")\n",
    "else:\n",
    "    print(\"Enter correct age\")    "
   ]
  },
  {
   "cell_type": "code",
   "execution_count": null,
   "metadata": {},
   "outputs": [],
   "source": [
    "11.  Write a Python program to find those numbers which are divisible by 7 and multiple of 5,### between 1500 and 2700"
   ]
  },
  {
   "cell_type": "code",
   "execution_count": 12,
   "metadata": {},
   "outputs": [
    {
     "name": "stdout",
     "output_type": "stream",
     "text": [
      "1500 is divisble by 5\n",
      "1505 is divisble by 7\n",
      "1510 is divisble by 5\n",
      "1512 is divisble by 7\n",
      "1515 is divisble by 5\n",
      "1519 is divisble by 7\n",
      "1520 is divisble by 5\n",
      "1525 is divisble by 5\n",
      "1526 is divisble by 7\n",
      "1530 is divisble by 5\n",
      "1533 is divisble by 7\n",
      "1535 is divisble by 5\n",
      "1540 is divisble by 7\n",
      "1545 is divisble by 5\n",
      "1547 is divisble by 7\n",
      "1550 is divisble by 5\n",
      "1554 is divisble by 7\n",
      "1555 is divisble by 5\n",
      "1560 is divisble by 5\n",
      "1561 is divisble by 7\n",
      "1565 is divisble by 5\n",
      "1568 is divisble by 7\n",
      "1570 is divisble by 5\n",
      "1575 is divisble by 7\n",
      "1580 is divisble by 5\n",
      "1582 is divisble by 7\n",
      "1585 is divisble by 5\n",
      "1589 is divisble by 7\n",
      "1590 is divisble by 5\n",
      "1595 is divisble by 5\n",
      "1596 is divisble by 7\n",
      "1600 is divisble by 5\n",
      "1603 is divisble by 7\n",
      "1605 is divisble by 5\n",
      "1610 is divisble by 7\n",
      "1615 is divisble by 5\n",
      "1617 is divisble by 7\n",
      "1620 is divisble by 5\n",
      "1624 is divisble by 7\n",
      "1625 is divisble by 5\n",
      "1630 is divisble by 5\n",
      "1631 is divisble by 7\n",
      "1635 is divisble by 5\n",
      "1638 is divisble by 7\n",
      "1640 is divisble by 5\n",
      "1645 is divisble by 7\n",
      "1650 is divisble by 5\n",
      "1652 is divisble by 7\n",
      "1655 is divisble by 5\n",
      "1659 is divisble by 7\n",
      "1660 is divisble by 5\n",
      "1665 is divisble by 5\n",
      "1666 is divisble by 7\n",
      "1670 is divisble by 5\n",
      "1673 is divisble by 7\n",
      "1675 is divisble by 5\n",
      "1680 is divisble by 7\n",
      "1685 is divisble by 5\n",
      "1687 is divisble by 7\n",
      "1690 is divisble by 5\n",
      "1694 is divisble by 7\n",
      "1695 is divisble by 5\n",
      "1700 is divisble by 5\n",
      "1701 is divisble by 7\n",
      "1705 is divisble by 5\n",
      "1708 is divisble by 7\n",
      "1710 is divisble by 5\n",
      "1715 is divisble by 7\n",
      "1720 is divisble by 5\n",
      "1722 is divisble by 7\n",
      "1725 is divisble by 5\n",
      "1729 is divisble by 7\n",
      "1730 is divisble by 5\n",
      "1735 is divisble by 5\n",
      "1736 is divisble by 7\n",
      "1740 is divisble by 5\n",
      "1743 is divisble by 7\n",
      "1745 is divisble by 5\n",
      "1750 is divisble by 7\n",
      "1755 is divisble by 5\n",
      "1757 is divisble by 7\n",
      "1760 is divisble by 5\n",
      "1764 is divisble by 7\n",
      "1765 is divisble by 5\n",
      "1770 is divisble by 5\n",
      "1771 is divisble by 7\n",
      "1775 is divisble by 5\n",
      "1778 is divisble by 7\n",
      "1780 is divisble by 5\n",
      "1785 is divisble by 7\n",
      "1790 is divisble by 5\n",
      "1792 is divisble by 7\n",
      "1795 is divisble by 5\n",
      "1799 is divisble by 7\n",
      "1800 is divisble by 5\n",
      "1805 is divisble by 5\n",
      "1806 is divisble by 7\n",
      "1810 is divisble by 5\n",
      "1813 is divisble by 7\n",
      "1815 is divisble by 5\n",
      "1820 is divisble by 7\n",
      "1825 is divisble by 5\n",
      "1827 is divisble by 7\n",
      "1830 is divisble by 5\n",
      "1834 is divisble by 7\n",
      "1835 is divisble by 5\n",
      "1840 is divisble by 5\n",
      "1841 is divisble by 7\n",
      "1845 is divisble by 5\n",
      "1848 is divisble by 7\n",
      "1850 is divisble by 5\n",
      "1855 is divisble by 7\n",
      "1860 is divisble by 5\n",
      "1862 is divisble by 7\n",
      "1865 is divisble by 5\n",
      "1869 is divisble by 7\n",
      "1870 is divisble by 5\n",
      "1875 is divisble by 5\n",
      "1876 is divisble by 7\n",
      "1880 is divisble by 5\n",
      "1883 is divisble by 7\n",
      "1885 is divisble by 5\n",
      "1890 is divisble by 7\n",
      "1895 is divisble by 5\n",
      "1897 is divisble by 7\n",
      "1900 is divisble by 5\n",
      "1904 is divisble by 7\n",
      "1905 is divisble by 5\n",
      "1910 is divisble by 5\n",
      "1911 is divisble by 7\n",
      "1915 is divisble by 5\n",
      "1918 is divisble by 7\n",
      "1920 is divisble by 5\n",
      "1925 is divisble by 7\n",
      "1930 is divisble by 5\n",
      "1932 is divisble by 7\n",
      "1935 is divisble by 5\n",
      "1939 is divisble by 7\n",
      "1940 is divisble by 5\n",
      "1945 is divisble by 5\n",
      "1946 is divisble by 7\n",
      "1950 is divisble by 5\n",
      "1953 is divisble by 7\n",
      "1955 is divisble by 5\n",
      "1960 is divisble by 7\n",
      "1965 is divisble by 5\n",
      "1967 is divisble by 7\n",
      "1970 is divisble by 5\n",
      "1974 is divisble by 7\n",
      "1975 is divisble by 5\n",
      "1980 is divisble by 5\n",
      "1981 is divisble by 7\n",
      "1985 is divisble by 5\n",
      "1988 is divisble by 7\n",
      "1990 is divisble by 5\n",
      "1995 is divisble by 7\n",
      "2000 is divisble by 5\n",
      "2002 is divisble by 7\n",
      "2005 is divisble by 5\n",
      "2009 is divisble by 7\n",
      "2010 is divisble by 5\n",
      "2015 is divisble by 5\n",
      "2016 is divisble by 7\n",
      "2020 is divisble by 5\n",
      "2023 is divisble by 7\n",
      "2025 is divisble by 5\n",
      "2030 is divisble by 7\n",
      "2035 is divisble by 5\n",
      "2037 is divisble by 7\n",
      "2040 is divisble by 5\n",
      "2044 is divisble by 7\n",
      "2045 is divisble by 5\n",
      "2050 is divisble by 5\n",
      "2051 is divisble by 7\n",
      "2055 is divisble by 5\n",
      "2058 is divisble by 7\n",
      "2060 is divisble by 5\n",
      "2065 is divisble by 7\n",
      "2070 is divisble by 5\n",
      "2072 is divisble by 7\n",
      "2075 is divisble by 5\n",
      "2079 is divisble by 7\n",
      "2080 is divisble by 5\n",
      "2085 is divisble by 5\n",
      "2086 is divisble by 7\n",
      "2090 is divisble by 5\n",
      "2093 is divisble by 7\n",
      "2095 is divisble by 5\n",
      "2100 is divisble by 7\n",
      "2105 is divisble by 5\n",
      "2107 is divisble by 7\n",
      "2110 is divisble by 5\n",
      "2114 is divisble by 7\n",
      "2115 is divisble by 5\n",
      "2120 is divisble by 5\n",
      "2121 is divisble by 7\n",
      "2125 is divisble by 5\n",
      "2128 is divisble by 7\n",
      "2130 is divisble by 5\n",
      "2135 is divisble by 7\n",
      "2140 is divisble by 5\n",
      "2142 is divisble by 7\n",
      "2145 is divisble by 5\n",
      "2149 is divisble by 7\n",
      "2150 is divisble by 5\n",
      "2155 is divisble by 5\n",
      "2156 is divisble by 7\n",
      "2160 is divisble by 5\n",
      "2163 is divisble by 7\n",
      "2165 is divisble by 5\n",
      "2170 is divisble by 7\n",
      "2175 is divisble by 5\n",
      "2177 is divisble by 7\n",
      "2180 is divisble by 5\n",
      "2184 is divisble by 7\n",
      "2185 is divisble by 5\n",
      "2190 is divisble by 5\n",
      "2191 is divisble by 7\n",
      "2195 is divisble by 5\n",
      "2198 is divisble by 7\n",
      "2200 is divisble by 5\n",
      "2205 is divisble by 7\n",
      "2210 is divisble by 5\n",
      "2212 is divisble by 7\n",
      "2215 is divisble by 5\n",
      "2219 is divisble by 7\n",
      "2220 is divisble by 5\n",
      "2225 is divisble by 5\n",
      "2226 is divisble by 7\n",
      "2230 is divisble by 5\n",
      "2233 is divisble by 7\n",
      "2235 is divisble by 5\n",
      "2240 is divisble by 7\n",
      "2245 is divisble by 5\n",
      "2247 is divisble by 7\n",
      "2250 is divisble by 5\n",
      "2254 is divisble by 7\n",
      "2255 is divisble by 5\n",
      "2260 is divisble by 5\n",
      "2261 is divisble by 7\n",
      "2265 is divisble by 5\n",
      "2268 is divisble by 7\n",
      "2270 is divisble by 5\n",
      "2275 is divisble by 7\n",
      "2280 is divisble by 5\n",
      "2282 is divisble by 7\n",
      "2285 is divisble by 5\n",
      "2289 is divisble by 7\n",
      "2290 is divisble by 5\n",
      "2295 is divisble by 5\n",
      "2296 is divisble by 7\n",
      "2300 is divisble by 5\n",
      "2303 is divisble by 7\n",
      "2305 is divisble by 5\n",
      "2310 is divisble by 7\n",
      "2315 is divisble by 5\n",
      "2317 is divisble by 7\n",
      "2320 is divisble by 5\n",
      "2324 is divisble by 7\n",
      "2325 is divisble by 5\n",
      "2330 is divisble by 5\n",
      "2331 is divisble by 7\n",
      "2335 is divisble by 5\n",
      "2338 is divisble by 7\n",
      "2340 is divisble by 5\n",
      "2345 is divisble by 7\n",
      "2350 is divisble by 5\n",
      "2352 is divisble by 7\n",
      "2355 is divisble by 5\n",
      "2359 is divisble by 7\n",
      "2360 is divisble by 5\n",
      "2365 is divisble by 5\n",
      "2366 is divisble by 7\n",
      "2370 is divisble by 5\n",
      "2373 is divisble by 7\n",
      "2375 is divisble by 5\n",
      "2380 is divisble by 7\n",
      "2385 is divisble by 5\n",
      "2387 is divisble by 7\n",
      "2390 is divisble by 5\n",
      "2394 is divisble by 7\n",
      "2395 is divisble by 5\n",
      "2400 is divisble by 5\n",
      "2401 is divisble by 7\n",
      "2405 is divisble by 5\n",
      "2408 is divisble by 7\n",
      "2410 is divisble by 5\n",
      "2415 is divisble by 7\n",
      "2420 is divisble by 5\n",
      "2422 is divisble by 7\n",
      "2425 is divisble by 5\n",
      "2429 is divisble by 7\n",
      "2430 is divisble by 5\n",
      "2435 is divisble by 5\n",
      "2436 is divisble by 7\n",
      "2440 is divisble by 5\n",
      "2443 is divisble by 7\n",
      "2445 is divisble by 5\n",
      "2450 is divisble by 7\n",
      "2455 is divisble by 5\n",
      "2457 is divisble by 7\n",
      "2460 is divisble by 5\n",
      "2464 is divisble by 7\n",
      "2465 is divisble by 5\n",
      "2470 is divisble by 5\n",
      "2471 is divisble by 7\n",
      "2475 is divisble by 5\n",
      "2478 is divisble by 7\n",
      "2480 is divisble by 5\n",
      "2485 is divisble by 7\n",
      "2490 is divisble by 5\n",
      "2492 is divisble by 7\n",
      "2495 is divisble by 5\n",
      "2499 is divisble by 7\n",
      "2500 is divisble by 5\n",
      "2505 is divisble by 5\n",
      "2506 is divisble by 7\n",
      "2510 is divisble by 5\n",
      "2513 is divisble by 7\n",
      "2515 is divisble by 5\n",
      "2520 is divisble by 7\n",
      "2525 is divisble by 5\n",
      "2527 is divisble by 7\n",
      "2530 is divisble by 5\n",
      "2534 is divisble by 7\n",
      "2535 is divisble by 5\n",
      "2540 is divisble by 5\n",
      "2541 is divisble by 7\n",
      "2545 is divisble by 5\n",
      "2548 is divisble by 7\n",
      "2550 is divisble by 5\n",
      "2555 is divisble by 7\n",
      "2560 is divisble by 5\n",
      "2562 is divisble by 7\n",
      "2565 is divisble by 5\n",
      "2569 is divisble by 7\n",
      "2570 is divisble by 5\n",
      "2575 is divisble by 5\n",
      "2576 is divisble by 7\n",
      "2580 is divisble by 5\n",
      "2583 is divisble by 7\n",
      "2585 is divisble by 5\n",
      "2590 is divisble by 7\n",
      "2595 is divisble by 5\n",
      "2597 is divisble by 7\n",
      "2600 is divisble by 5\n",
      "2604 is divisble by 7\n",
      "2605 is divisble by 5\n",
      "2610 is divisble by 5\n",
      "2611 is divisble by 7\n",
      "2615 is divisble by 5\n",
      "2618 is divisble by 7\n",
      "2620 is divisble by 5\n",
      "2625 is divisble by 7\n",
      "2630 is divisble by 5\n",
      "2632 is divisble by 7\n",
      "2635 is divisble by 5\n",
      "2639 is divisble by 7\n",
      "2640 is divisble by 5\n",
      "2645 is divisble by 5\n",
      "2646 is divisble by 7\n",
      "2650 is divisble by 5\n",
      "2653 is divisble by 7\n",
      "2655 is divisble by 5\n",
      "2660 is divisble by 7\n",
      "2665 is divisble by 5\n",
      "2667 is divisble by 7\n",
      "2670 is divisble by 5\n",
      "2674 is divisble by 7\n",
      "2675 is divisble by 5\n",
      "2680 is divisble by 5\n",
      "2681 is divisble by 7\n",
      "2685 is divisble by 5\n",
      "2688 is divisble by 7\n",
      "2690 is divisble by 5\n",
      "2695 is divisble by 7\n"
     ]
    }
   ],
   "source": [
    "for z in range(1500,2700):\n",
    "    if z%7==0:\n",
    "        print(z,\"is divisble by 7\")\n",
    "        continue\n",
    "    elif z%5==0:\n",
    "        print(z,\"is divisble by 5\")\n",
    "        continue  "
   ]
  },
  {
   "cell_type": "code",
   "execution_count": null,
   "metadata": {},
   "outputs": [],
   "source": [
    "12.Fizz Buzz "
   ]
  },
  {
   "cell_type": "code",
   "execution_count": 13,
   "metadata": {},
   "outputs": [
    {
     "name": "stdout",
     "output_type": "stream",
     "text": [
      "bizz\n",
      "1\n",
      "2\n",
      "fizz\n",
      "4\n"
     ]
    }
   ],
   "source": [
    "for x in range(5):\n",
    "    if x%5==0:\n",
    "        print(\"bizz\")\n",
    "        continue\n",
    "    elif x%3==0:\n",
    "        print(\"fizz\")\n",
    "        continue\n",
    "    else :\n",
    "        print(x)"
   ]
  },
  {
   "cell_type": "code",
   "execution_count": null,
   "metadata": {},
   "outputs": [],
   "source": [
    "13.Write a Python program that prints each item and its corresponding type from the following list.\n",
    "Sample List : datalist = [1452, 11.23, 1+2j, True, 'w3resource', (0, -1), [5, 12], {\"class\":'V', \"section\":'A'}]"
   ]
  },
  {
   "cell_type": "code",
   "execution_count": 14,
   "metadata": {},
   "outputs": [
    {
     "name": "stdout",
     "output_type": "stream",
     "text": [
      "<class 'int'>\n",
      "1452\n",
      "<class 'float'>\n",
      "11.23\n",
      "<class 'complex'>\n",
      "(1+2j)\n",
      "<class 'bool'>\n",
      "True\n",
      "<class 'str'>\n",
      "w3resource\n",
      "<class 'tuple'>\n",
      "(0, -1)\n",
      "<class 'list'>\n",
      "[5, 12]\n",
      "<class 'dict'>\n",
      "{'class': 'V', 'section': 'A'}\n"
     ]
    }
   ],
   "source": [
    "data_list=[1452, 11.23, 1+2j, True, 'w3resource', (0, -1), [5, 12], {\"class\":'V', \"section\":'A'}]\n",
    "for list in data_list:\n",
    "    print(type(list))\n",
    "    print(list)"
   ]
  },
  {
   "cell_type": "code",
   "execution_count": null,
   "metadata": {},
   "outputs": [],
   "source": [
    "14.Write a Python program to convert temperatures to and from celsius, fahrenheit. "
   ]
  },
  {
   "cell_type": "code",
   "execution_count": 15,
   "metadata": {},
   "outputs": [
    {
     "name": "stdout",
     "output_type": "stream",
     "text": [
      "The celsius coverted from farenhiet is : 48.888888888888886\n",
      "The Farenhiet coverted from celsius is : 122.0\n"
     ]
    }
   ],
   "source": [
    "class Temp:\n",
    "    celsius=0\n",
    "    farenhiet=0\n",
    "    def __init__(self,cel,far):\n",
    "        self.cel=cel\n",
    "        self.far=far\n",
    "    def covertCelsius(self):\n",
    "        celsius=(self.far-32)*5/9\n",
    "        print(\"The celsius coverted from farenhiet is :\",celsius)\n",
    "    def convertFarenheit(self):\n",
    "        farenhiet=(self.cel*9/5)+32\n",
    "        print(\"The Farenhiet coverted from celsius is :\",farenhiet)\n",
    "        \n",
    "temp1=Temp(50,120)\n",
    "cel1=temp1.covertCelsius()\n",
    "far1=temp1.convertFarenheit()"
   ]
  },
  {
   "cell_type": "code",
   "execution_count": null,
   "metadata": {},
   "outputs": [],
   "source": [
    "15. Write a Python program that prints all the numbers from 0 to 6 except 3 and 6."
   ]
  },
  {
   "cell_type": "code",
   "execution_count": 16,
   "metadata": {},
   "outputs": [
    {
     "name": "stdout",
     "output_type": "stream",
     "text": [
      "1\n",
      "2\n",
      "4\n",
      "5\n"
     ]
    }
   ],
   "source": [
    "i=0\n",
    "while i<6 :\n",
    "    i=i+1\n",
    "    if i==3:\n",
    "        continue\n",
    "    elif i==6:\n",
    "        continue\n",
    "    else:\n",
    "        print(i)"
   ]
  },
  {
   "cell_type": "code",
   "execution_count": null,
   "metadata": {},
   "outputs": [],
   "source": [
    "16.Create a Cricle class and intialize it with radius. Make two methods getArea and getCircumference inside this class"
   ]
  },
  {
   "cell_type": "code",
   "execution_count": 17,
   "metadata": {},
   "outputs": [
    {
     "name": "stdout",
     "output_type": "stream",
     "text": [
      "The area of the cirlce is : 254.34\n",
      "The circumfrence of the circle is: 56.52\n"
     ]
    }
   ],
   "source": [
    "class Circle:\n",
    "    area=0\n",
    "    circum=0\n",
    "    def __init__(self,radius):\n",
    "        self.radius=radius\n",
    "    def getArea(self):\n",
    "        area=3.14*self.radius*self.radius\n",
    "        print(\"The area of the cirlce is :\",area)\n",
    "    def getCircum(self):\n",
    "        circum=2*3.14*self.radius\n",
    "        print(\"The circumfrence of the circle is:\",circum)\n",
    "        \n",
    "radius1=Circle(9)\n",
    "area1=radius1.getArea()\n",
    "cir2=radius1.getCircum()"
   ]
  },
  {
   "cell_type": "code",
   "execution_count": null,
   "metadata": {},
   "outputs": [],
   "source": [
    "17.Create a Temprature class. Make two methods"
   ]
  },
  {
   "cell_type": "code",
   "execution_count": 18,
   "metadata": {},
   "outputs": [
    {
     "name": "stdout",
     "output_type": "stream",
     "text": [
      "The celsius coverted from farenhiet is : 48.888888888888886\n",
      "The Farenhiet coverted from celsius is : 122.0\n"
     ]
    }
   ],
   "source": [
    "class Temp:\n",
    "    celsius=0\n",
    "    farenhiet=0\n",
    "    def __init__(self,cel,far):\n",
    "        self.cel=cel\n",
    "        self.far=far\n",
    "    def covertCelsius(self):\n",
    "        celsius=(self.far-32)*5/9\n",
    "        print(\"The celsius coverted from farenhiet is :\",celsius)\n",
    "    def convertFarenheit(self):\n",
    "        farenhiet=(self.cel*9/5)+32\n",
    "        print(\"The Farenhiet coverted from celsius is :\",farenhiet)\n",
    "        \n",
    "temp1=Temp(50,120)\n",
    "cel1=temp1.covertCelsius()\n",
    "far1=temp1.convertFarenheit()"
   ]
  },
  {
   "cell_type": "code",
   "execution_count": null,
   "metadata": {},
   "outputs": [],
   "source": [
    "18.Create a Student class and initialize it with name and roll number. Make methods "
   ]
  },
  {
   "cell_type": "code",
   "execution_count": 19,
   "metadata": {},
   "outputs": [
    {
     "name": "stdout",
     "output_type": "stream",
     "text": [
      "The student name:  Tenzin \n",
      " The student age is : 22 \n",
      " The student roll# is :  32 \n",
      " The student marks acquired is:  B-\n",
      "The student name:  Ravi \n",
      " The student age is : 24 \n",
      " The student roll# is :  31 \n",
      " The student marks acquired is:  A+\n"
     ]
    }
   ],
   "source": [
    "class Student:\n",
    "    def  __init__(self,name,rollno):\n",
    "        self.name=name\n",
    "        self.rollno=rollno\n",
    "class Display(Student):\n",
    "    def __init__(self,name,rollno,age,marks):\n",
    "        super().__init__(name,rollno)\n",
    "        self.age=age\n",
    "        self.marks=marks\n",
    "    def disp(self):\n",
    "        print(\"The student name: \",self.name,'\\n',\"The student age is :\",self.age,'\\n',\"The student roll# is : \",self.rollno,'\\n',\"The student marks acquired is: \",self.marks)\n",
    "        \n",
    "student_1=Display(\"Tenzin\",32,22,\"B-\")\n",
    "student_2=Display(\"Ravi\",31,24,\"A+\")\n",
    "disp1=student_1.disp()\n",
    "disp2=student_2.disp()"
   ]
  },
  {
   "cell_type": "code",
   "execution_count": null,
   "metadata": {},
   "outputs": [],
   "source": [
    "19.Create a class Mathematics with different mathematical operations like addition, subtraction...etc and output the deseried results"
   ]
  },
  {
   "cell_type": "code",
   "execution_count": 20,
   "metadata": {},
   "outputs": [
    {
     "name": "stdout",
     "output_type": "stream",
     "text": [
      "The total number added is :  15\n",
      "The total number subtracrted is :  5\n",
      "The total number multiplied is :  50\n",
      "The total number divided is :  2.0\n"
     ]
    }
   ],
   "source": [
    "class Mathematics:\n",
    "    addnum=0\n",
    "    subnum=0\n",
    "    mulnum=0\n",
    "    divnum=0\n",
    "    def __init__(self,num1,num2):\n",
    "        self.num1=num1\n",
    "        self.num2=num2\n",
    "    def addNum(self):\n",
    "        addnum=self.num1+self.num2\n",
    "        print(\"The total number added is : \",addnum)\n",
    "    def subNum(self):\n",
    "        subnum=self.num1-self.num2\n",
    "        print(\"The total number subtracrted is : \",subnum)\n",
    "    def mulNum(self):\n",
    "        mulnum=self.num1*self.num2\n",
    "        print(\"The total number multiplied is : \",mulnum)\n",
    "    def divNum(self):\n",
    "        divnum=self.num1/self.num2\n",
    "        print(\"The total number divided is : \",divnum)\n",
    "\n",
    "number=Mathematics(10,5)\n",
    "number.addNum()\n",
    "number.subNum()\n",
    "number.mulNum()\n",
    "number.divNum()"
   ]
  },
  {
   "cell_type": "code",
   "execution_count": null,
   "metadata": {},
   "outputs": [],
   "source": [
    "20. A Bike Rental System"
   ]
  },
  {
   "cell_type": "code",
   "execution_count": 21,
   "metadata": {},
   "outputs": [
    {
     "name": "stdout",
     "output_type": "stream",
     "text": [
      "Current stock: 13\n",
      "Current stock: 13\n",
      "Please enter number of bikes you want: 10\n",
      "The transaction is being processed\n",
      "Transaction complete\n",
      "Current stock: 3\n",
      "Please enter number of bikes you want: 5\n",
      "Sorry we don't have that many bikes\n"
     ]
    }
   ],
   "source": [
    "import datetime\n",
    "\n",
    "\n",
    "class Bikeshop:\n",
    "\n",
    "    def __init__(self, stock):\n",
    "        self.stock = stock\n",
    "\n",
    "    def check_inventory(self):\n",
    "        print(\"Current stock: {}\".format(self.stock))\n",
    "\n",
    "    def issueBill(self):\n",
    "        print(\"hi\")\n",
    "\n",
    "class Customer(Bikeshop):\n",
    "\n",
    "    def rentBikehourly(self, thetime):\n",
    "        self.time = thetime\n",
    "        b = int(input(\"Please enter number of bikes you want: \"))\n",
    "        if b > self.stock:\n",
    "            print(\"Sorry we don't have that many bikes\")\n",
    "        elif b <= self.stock and b > 0:\n",
    "            print(\"The transaction is being processed\")\n",
    "            print(\"Transaction complete\")\n",
    "        self.stock -= b\n",
    "\n",
    "    def rentBikeDaily(self, the_time):\n",
    "        self.time = the_time\n",
    "        b = int(input(\"Please enter number of bikes you want: \"))\n",
    "        if b > self.stock:\n",
    "            print(\"Sorry we don't have that many bikes\")\n",
    "        elif b <= self.stock and b > 0:\n",
    "            print(\"The transaction is being processed\")\n",
    "            print(\"Transaction complete\")\n",
    "        self.stock -= b\n",
    "\n",
    "    def rentBikeWeekly(self, the_day):\n",
    "        self.time = the_day\n",
    "        b = int(input(\"Please enter number of bikes you want: \"))\n",
    "        if b > self.stock:\n",
    "            print(\"Sorry we don't have that many bikes\")\n",
    "        elif b <= self.stock and b > 0:\n",
    "            print(\"The transaction is being processed\")\n",
    "            print(\"Transaction complete\")\n",
    "        self.stock -= b\n",
    "\n",
    "    def return_bike(self, return_time):\n",
    "        self.thereturntime = return_time\n",
    "\n",
    "\n",
    "\n",
    "myshop = Bikeshop(13)\n",
    "myshop.check_inventory()\n",
    "myshop.check_inventory()\n",
    "Customer.rentBikeDaily(myshop,3)\n",
    "myshop.check_inventory()\n",
    "Customer.rentBikeWeekly(myshop,3)"
   ]
  },
  {
   "cell_type": "code",
   "execution_count": null,
   "metadata": {},
   "outputs": [],
   "source": [
    "21. SIMPLE AND ADVANCE Calc"
   ]
  },
  {
   "cell_type": "code",
   "execution_count": 3,
   "metadata": {},
   "outputs": [
    {
     "ename": "SyntaxError",
     "evalue": "invalid syntax (<ipython-input-3-697c6d14add4>, line 77)",
     "output_type": "error",
     "traceback": [
      "\u001b[1;36m  File \u001b[1;32m\"<ipython-input-3-697c6d14add4>\"\u001b[1;36m, line \u001b[1;32m77\u001b[0m\n\u001b[1;33m    a= float(input(\"Please enter the first number: \"))\u001b[0m\n\u001b[1;37m    ^\u001b[0m\n\u001b[1;31mSyntaxError\u001b[0m\u001b[1;31m:\u001b[0m invalid syntax\n"
     ]
    }
   ],
   "source": [
    "import math \n",
    "    \n",
    "class SimpleCalc:\n",
    "    total=0\n",
    "    def __init__(self,num1,num2):\n",
    "            self.num1=num1\n",
    "            self.num2=num2\n",
    "            \n",
    "    def add(self):\n",
    "                total=self.num1+self.num2\n",
    "                print(\"The total sum of the number is :\",total)\n",
    "        \n",
    "    def sub(self):\n",
    "                total=self.num1-self.num2\n",
    "                print(\"The total subtracted number is:\",total)\n",
    "        \n",
    "    def mul(self):\n",
    "                total=self.num1*self.num2\n",
    "                print(\"The total number multiplied is :\",total)\n",
    "        \n",
    "    def div(self):\n",
    "                total=self.num1/self.num2\n",
    "                print(\"The total number divided is :\",total)\n",
    "        \n",
    "    def fact(self):\n",
    "                print(\"The Greatest Factorial of\",self.num1,\"is :\",end=\" \")\n",
    "                print(math.factorial(self.num1))\n",
    "                print(\"The Greatest Factorial of\",self.num2,\"is :\",end=\" \")\n",
    "                print(math.factorial(self.num2))\n",
    "        \n",
    "    def rd(self):\n",
    "                print(\"The nearest round of is \",math.ceil(self.num1))\n",
    "                print(\"The farthest round of is \",math.floor(self.num1))\n",
    "                print(\"The nearest round of is \",math.ceil(self.num2))\n",
    "                print(\"The farthest round of is \",math.floor(self.num2))\n",
    "            \n",
    "class AdvanceCalc():\n",
    "    total=0\n",
    "    def __init__(self,num1):\n",
    "        self.num1=num1\n",
    "            \n",
    "            \n",
    "    def squareroot(self):\n",
    "                print(\"The square root of the 1st Number is :\",math.sqrt(self.num1))\n",
    "                print(\"The square root of the 2nd Number is :\",math.sqrt(self.num2))\n",
    "        \n",
    "        \n",
    "    def great(self,num2):\n",
    "                print(\"The greates common factor of the two number is:\",math.gcd(self.num1,self.num2))\n",
    "        \n",
    "            \n",
    "    def tanValue(self):\n",
    "                total=math.sin(self.num1)/math.cos(self.num2)\n",
    "                print(\"The value of tan is: \",total)\n",
    "        \n",
    "        \n",
    "    def sinValue(self):\n",
    "                total=math.tan(self.num1)*math.cos(self.num1)\n",
    "                print(\"The value of sin is: \",total)\n",
    "        \n",
    "        \n",
    "    def cosValue(self):\n",
    "                total=math.cos(self.num1)/math.tan(self.num2)\n",
    "                print(\"The value of cos is: \",total)\n",
    "        \n",
    "            \n",
    "    def logValue(self):\n",
    "                total=math.log10(self.num1)+math.log10(self.num2)\n",
    "                print(\"The total value is :\",total)\n",
    "                \n",
    "x=float(input(\"Please type 1 for Simple Calculations or 2 for Advanced Calculation:\"))    \n",
    "\n",
    "if x==1:\n",
    "        output=SimpleCalc(a,b)\n",
    "        y=int(input(\"Please enter what calculations u want add,sub,mul,div,fact,round:\")\n",
    "        \n",
    "        a= float(input(\"Please enter the first number: \"))\n",
    "        b= float(input(\"Please enter the second Number\"))\n",
    "             \n",
    "        if y=\"add\":\n",
    "                print(output.add())\n",
    "        elif y==\"sub\":\n",
    "                print(output.sub())\n",
    "        elif y==\"mul\":\n",
    "            print(output.mul())\n",
    "        elif y==\"div\":\n",
    "            print(output.div())\n",
    "        elif y==\"fact\":\n",
    "            print(output.fact())\n",
    "        elif y==\"round\":\n",
    "            print(output.rd()) \n",
    "        else:\n",
    "            print(\"Please enter the correct mathematical operations!!\")\n",
    "\n",
    "elif x==2:\n",
    "        z=int(input(\"Please type calcultions u want squareroot,gcd,tan,cos,sin,log:\")\n",
    "        c=int(input(\"Please enter the number for advance calculations\"))\n",
    "        d=int(input(\"Please enter the number for advance calculations\"))      \n",
    "        output1=AdvanceCalc(c,d)\n",
    "        if z==\"squareroot\":\n",
    "            print(output1.squareroot())\n",
    "        elif z==\"gcd\":\n",
    "            print(output1.great(20))\n",
    "        elif z==\"tan\":\n",
    "            print(output1.tanValue())\n",
    "        elif z==\"cos\":\n",
    "            print(output1.sinValue())\n",
    "        elif z==\"sin\":\n",
    "            print(output1.cosValue())\n",
    "        elif z==\"log\":\n",
    "            print(output1.logValue())\n",
    "        else:\n",
    "            print(\"Please enter the correct mathematical operations to be operated !\")\n",
    "\n",
    "else:\n",
    "    print(\"Please enter the corerct numbers \")\n"
   ]
  },
  {
   "cell_type": "code",
   "execution_count": null,
   "metadata": {},
   "outputs": [],
   "source": [
    "22. Display only the dates from a text file using regular expressoins"
   ]
  },
  {
   "cell_type": "code",
   "execution_count": 4,
   "metadata": {},
   "outputs": [
    {
     "name": "stdout",
     "output_type": "stream",
     "text": [
      "Error at position: 210/21/79\n",
      "Error at position: 9/36/308\n",
      "Total list size: 122 \n",
      "Total Sorted: 120\n",
      "\n",
      "Error at position: 708-810-7787\n",
      "Total list size: 5 \n",
      "Total Sorted: 4\n",
      "\n",
      "['04/10/1971', '05/18/1971', '07/08/1971', '07/11/1971', '09/12/1971', '01/26/1972', '05/13/1972', '06/10/1972', '07/20/1972', '02/14/1973', '12/01/1973', '02/24/1974', '04/11/1974', '04/12/1974', '05/04/1974', '07/07/1974', '02/28/1975', '04/09/1975', '07/29/1975', '09/27/1975', '11/22/1975', '02/11/1976', '09/02/1976', '09/20/1976', '10/13/1976', '05/04/1977', '05/21/1977', '06/20/1977', '07/11/1977', '02/03/1978', '05/18/1978', '08/04/1978', '08/11/1978', '07/06/1979', '09/06/1979', '04/22/1980', '01/14/1981', '06/29/1981', '08/09/1981', '09/19/1981', '04/12/1982', '04/13/1982', '07/04/1982', '08/16/1982', '08/20/1982', '09/22/1982', '10/16/1982', '12/08/1982', '03/15/1983', '08/06/1983', '08/22/1983', '11/14/1983', '07/25/1984', '09/17/1984', '03/31/1985', '05/11/1985', '06/18/1985', '11/03/1985', '03/07/1986', '07/18/1986', '07/27/1986', '10/24/1986', '12/26/1986', '01/21/1987', '04/12/1987', '06/24/1987', '06/28/1987', '10/11/1987', '12/04/1987', '12/05/1987', '05/24/1988', '04/05/1989', '04/13/1989', '08/26/1989', '09/22/1989', '10/24/1989', '03/03/1990', '05/24/1990', '11/05/1990', '12/08/1990', '03/31/1991', '04/19/1991', '05/24/1991', '06/20/1991', '07/06/1991', '07/15/1991', '10/29/1991', '02/22/1992', '06/13/1992', '07/17/1992', '08/16/1992', '12/15/1992', '03/25/1993', '06/05/1993', '06/12/1994', '07/29/1994', '08/14/1994', '03/14/1995', '06/17/1995', '07/24/1995', '10/13/1995', '02/06/1996', '02/27/1996', '10/02/1996', '08/09/1997', '10/05/1997', '12/08/1997', '02/15/1998', '04/24/1998', '07/21/1998', '08/01/1998', '10/04/1998', '12/22/1998', '01/05/1999', '09/14/2000', '04/13/2002', '07/18/2002', '04/08/2004', '02/11/2006', '04/27/2006', '12/05/2010', '01/25/2011', '07/20/2011', '05/12/2012']\n",
      "Total dates extracted: 124\n"
     ]
    }
   ],
   "source": [
    "import re\n",
    "import datetime as dt\n",
    "from datetime import date\n",
    "from datetime import time\n",
    "from datetime import datetime\n",
    "\n",
    "mydata = open('C:/Users/Tenzin topgyal/Desktop/study material/dates.txt', 'r')\n",
    "txt = mydata.read()\n",
    "\n",
    "the_main_list = []\n",
    "firstformat = r\"\\d+/\\d+/\\d+\"\n",
    "secondformat = r\"\\d+-\\d+-\\d+\"\n",
    "\n",
    "def todate(format, thesplit):\n",
    "    founddates = re.findall(format, txt)\n",
    "    successfulConversion = 0\n",
    "    for i in founddates:\n",
    "        x = re.split(thesplit, i)\n",
    "        year = int(x[2])\n",
    "        day = int(x[1])\n",
    "        month = int(x[0])\n",
    "\n",
    "        if len(str(year)) == 2:\n",
    "            year += 1900\n",
    "        try:\n",
    "            a = datetime(year, month, day)\n",
    "            the_main_list.append(a)\n",
    "            successfulConversion += 1\n",
    "        except ValueError:\n",
    "            print(\"Error at position: \" + i)\n",
    "\n",
    "    print(\"Total list size: {} \\nTotal Sorted: {}\\n\".format(len(founddates), successfulConversion))\n",
    "\n",
    "\n",
    "\n",
    "todate(firstformat, \"/\")\n",
    "todate(secondformat, \"-\")\n",
    "the_main_list.sort()\n",
    "stripped1 = [datetime.strftime(thedate, \"%m/%d/%Y\") for thedate in the_main_list]\n",
    "print(stripped1)\n",
    "print(\"Total dates extracted: {}\".format(len(stripped1)))\n",
    "\n",
    "\n",
    "thirdformat = r\"([a-zA-Z]+)  (\\d+)  (\\d+)\"\n",
    "third = re.findall(thirdformat,txt)\n"
   ]
  },
  {
   "cell_type": "code",
   "execution_count": null,
   "metadata": {},
   "outputs": [],
   "source": [
    "23. Write a python program which creates a database "
   ]
  },
  {
   "cell_type": "code",
   "execution_count": 2,
   "metadata": {},
   "outputs": [
    {
     "name": "stdout",
     "output_type": "stream",
     "text": [
      "!!CREATED RESTAURANTS DATABASE SUCCESFULLY!!\n",
      "Records created succesfully !!\n"
     ]
    }
   ],
   "source": [
    "import sqlite3\n",
    "\n",
    "conn= sqlite3.connect('Restaurants.db')\n",
    "print(\"!!CREATED RESTAURANTS DATABASE SUCCESFULLY!!\")\n",
    "\n",
    "conn.execute('''CREATE TABLE IF NOT EXISTS MYRESTAURANTS(SR INTEGER PRIMARY KEY  AUTOINCREMENT NOT NULL,\n",
    "                                         RESTAURANT_NAME        VARCHAR   NOT NULL, \n",
    "                                         FOOD_TYPE              VARCHAR   NOT NULL,\n",
    "                                         DISTANCE               INT       NOT NULL,\n",
    "                                         LAST_VISIT             VARCHAR   NOT NULL,\n",
    "                                         LIKED                  INTEGER);''')\n",
    "conn.execute(\"INSERT INTO MYRESTAURANTS(RESTAURANT_NAME,FOOD_TYPE,DISTANCE,LAST_VISIT,LIKED)\\\n",
    "               VALUES('EAT STREET', 'NORTH INDIAN', 5, '10/12/2019',0)\")\n",
    "\n",
    "conn.execute(\"INSERT INTO MYRESTAURANTS(RESTAURANT_NAME,FOOD_TYPE,DISTANCE,LAST_VISIT,LIKED)\\\n",
    "               VALUES('PUNJABI DHABA', 'NORTH INDIAN', 2, '10/05/2019',1)\")\n",
    "\n",
    "conn.execute(\"INSERT INTO MYRESTAURANTS(RESTAURANT_NAME,FOOD_TYPE,DISTANCE,LAST_VISIT,LIKED)\\\n",
    "               VALUES('WOW MOMO', 'CHINESE ', 15, '31/01/2019',0)\")\n",
    "\n",
    "conn.execute(\"INSERT INTO MYRESTAURANTS(RESTAURANT_NAME,FOOD_TYPE,DISTANCE,LAST_VISIT,LIKED)\\\n",
    "               VALUES('UDUPI', 'SOUTH INDIAN', 45, '05/12/2019',1)\")\n",
    "\n",
    "conn.commit()\n",
    "print(\"Records created succesfully !!\")\n",
    "conn.close()\n",
    "\n",
    "\n",
    "\n",
    "\n"
   ]
  },
  {
   "cell_type": "code",
   "execution_count": 14,
   "metadata": {},
   "outputs": [
    {
     "name": "stdout",
     "output_type": "stream",
     "text": [
      "Opened database succesfully !\n",
      "i dont like =  EAT STREET\n",
      "i dont like =  EAT STREET\n",
      "i dont like =  WOW MOMO\n",
      "i dont like =  WOW MOMO\n",
      "i dont like =  EAT STREET\n",
      "i dont like =  EAT STREET\n",
      "i dont like =  WOW MOMO\n",
      "i dont like =  WOW MOMO\n",
      "i dont like =  EAT STREET\n",
      "i dont like =  EAT STREET\n",
      "i dont like =  WOW MOMO\n",
      "i dont like =  WOW MOMO\n",
      "i like these restaurnats =  PUNJABI DHABA\n",
      "i like these restaurnats =  PUNJABI DHABA\n",
      "i like these restaurnats =  UDUPI\n",
      "i like these restaurnats =  UDUPI\n",
      "i like these restaurnats =  PUNJABI DHABA\n",
      "i like these restaurnats =  PUNJABI DHABA\n",
      "i like these restaurnats =  UDUPI\n",
      "i like these restaurnats =  UDUPI\n",
      "i like these restaurnats =  PUNJABI DHABA\n",
      "i like these restaurnats =  PUNJABI DHABA\n",
      "i like these restaurnats =  UDUPI\n",
      "i like these restaurnats =  UDUPI\n",
      "Operaion Success\n"
     ]
    }
   ],
   "source": [
    "import sqlite3\n",
    "conn= sqlite3.connect(\"Restaurants.db\")\n",
    "print(\"Opened database succesfully !\")\n",
    "\n",
    "cursor= conn.execute(\"SELECT RESTAURANT_NAME,LIKED FROM MYRESTAURANTS WHERE LIKED==0\")\n",
    "for column in cursor:\n",
    "    for i in column:\n",
    "        i=0\n",
    "        print(\"i dont like = \",column[i])\n",
    "\n",
    "\n",
    "\n",
    "cursor= conn.execute(\"SELECT RESTAURANT_NAME,LIKED FROM MYRESTAURANTS WHERE LIKED==1\")\n",
    "for column in cursor:\n",
    "    for i in column:\n",
    "        i=0\n",
    "        print(\"i like these restaurnats = \",column[i])\n",
    "        \n",
    "\n",
    "print(\"Operaion Success\")\n",
    "conn.close()\n",
    "\n",
    "                   \n"
   ]
  }
 ],
 "metadata": {
  "kernelspec": {
   "display_name": "Python 3",
   "language": "python",
   "name": "python3"
  },
  "language_info": {
   "codemirror_mode": {
    "name": "ipython",
    "version": 3
   },
   "file_extension": ".py",
   "mimetype": "text/x-python",
   "name": "python",
   "nbconvert_exporter": "python",
   "pygments_lexer": "ipython3",
   "version": "3.7.4"
  }
 },
 "nbformat": 4,
 "nbformat_minor": 2
}
